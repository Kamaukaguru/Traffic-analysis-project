{
 "cells": [
  {
   "cell_type": "markdown",
   "metadata": {
    "id": "9XQ0B6NfktMB"
   },
   "source": [
    "# TRAFFIC ANALYSIS PROJECT\n",
    "## BY: Group 5\n",
    "1. Kevin Muchori\n",
    "2. Benson Kamau\n",
    "3. Sally Kinyanjui\n",
    "4. Breden Mugambi\n",
    "5. Nancy Chelangat\n",
    "\n",
    "## Overview:  \n",
    "The urban mobility and transportation sector are vital for the functioning of modern cities, enabling the movement of people and goods efficiently. Within this industry, traffic management and pedestrian safety are crucial components that directly impact the quality of life in urban areas. Effective traffic pattern analysis and prediction can help mitigate congestion, enhance safety, and improve overall urban mobility.\n",
    "Well managed traffic leads to minimized economic losses, improved quality of life especially on the side of pedestrians.\n",
    "\n",
    "## Challenges:\n",
    "There are so many problems that are encountered especially in most urban towns whose vehicle and pedestrian population continues to grow every day. One of the problems is the traffic congestion which leads to higher traffic volumes which in turn brings about economic losses due to wasted time and fuel, increased pollution. Another key challenge is the pedestrian safety where High pedestrian traffic in urban areas increases the risk of accidents.  A challenge to also note is collecting accurate and real-time data from various sources is challenging which would make accurate traffic and pedestrian predictions challenging.\n",
    "\n",
    "## Proposed solutions:\n",
    "To solve some of these challenges would include measures such as advocating for sustainable urban mobility policies and invest in supportive infrastructure.  Use of Use machine learning models to analyze and predict traffic patterns and pedestrian crossings at different times of the day. In order to gather real-time data on traffic and pedestrian movement would require use of high technology like IoT devices.\n",
    "\n",
    "## Conclusion:\n",
    "The analysis and prediction of traffic congestion levels and pedestrian crossings are essential for enhancing urban mobility and safety. Successful implementation of these solutions can lead to reduced congestion, fewer accidents, and an overall improvement in the quality of urban life.\n",
    "\n",
    "\n",
    "## Problem Statement:\n",
    "\n",
    "Urban areas continue to face significant challenges in managing their traffic congestion and ensuring pedestrian safety. The changing nature of these areas together with the increasing volume of both vehicle and pedestrian traffic, makes it hard for one to predict traffic patterns affectively.\n",
    "\n",
    "## Objective :\n",
    "Our primary objective is to create an accurate time series model(s) that can model, analyze and predict traffic congestion levels and pedestrian crossings at different times of the day.\n",
    "\n",
    "### Specific objectives:\n",
    "1.  To identify key factors that influence traffic and pedestrian movement\n",
    "2.  To develop predictive models for forecasting future traffic congestion and pedestrian crossing patterns.\n",
    "3.  To provide recommendations for urban planners and traffic management authorities to improve traffic flow and pedestrian safety.\n"
   ]
  },
  {
   "cell_type": "markdown",
   "metadata": {
    "id": "1x_BabTrktMG"
   },
   "source": [
    "## Data Understanding\n",
    "The data to use in this study is sourced from the UC Irvine Machine Learning Repository.  It has 4760 rows and 22 data features."
   ]
  },
  {
   "cell_type": "code",
   "execution_count": 28,
   "metadata": {
    "id": "7oewEnIFktMG"
   },
   "outputs": [],
   "source": [
    "import numpy as np\n",
    "import pandas as pd\n",
    "import seaborn as sns\n",
    "import matplotlib.pyplot as plt\n",
    "import warnings\n",
    "\n",
    "warnings.filterwarnings('ignore')"
   ]
  },
  {
   "cell_type": "code",
   "execution_count": 29,
   "metadata": {
    "id": "W3W68l1Hk4-O"
   },
   "outputs": [],
   "source": [
    "#create a function that loads data and gets the info about the data.\n",
    "def load_and_get_info(file_path, encoding='utf-8'):\n",
    "    try :\n",
    "        # Load data\n",
    "        df = pd.read_csv(file_path, encoding=encoding)\n",
    "\n",
    "        # Display the first few rows of the DataFrame\n",
    "        df_head = df.head()\n",
    "\n",
    "        # Get information about the DataFrame\n",
    "        df_info = df.info()\n",
    "\n",
    "        return df,df_info, df_head\n",
    "    except UnicodeDecodeError:\n",
    "        print(f\"Failed to decode {file_path} with encoding {encoding}. Trying with 'latin1' encoding.\")\n",
    "        return load_and_get_info(file_path, encoding='latin1')\n",
    "\n",
    "# A function that checks the data types of DataFrame columns and return the count of columns for each data type category.\n",
    "def check_data_types(df):\n",
    "\n",
    "    data_type_counts = df.dtypes.replace({'object': 'string'}).value_counts().to_dict()\n",
    "    return data_type_counts"
   ]
  },
  {
   "cell_type": "code",
   "execution_count": 30,
   "metadata": {
    "colab": {
     "base_uri": "https://localhost:8080/",
     "height": 1000
    },
    "id": "Cvs2NxCaliHU",
    "outputId": "1ff235b4-660b-4fd0-c3cb-fcaf3875b106"
   },
   "outputs": [
    {
     "name": "stdout",
     "output_type": "stream",
     "text": [
      "<class 'pandas.core.frame.DataFrame'>\n",
      "RangeIndex: 4759 entries, 0 to 4758\n",
      "Data columns (total 22 columns):\n",
      " #   Column             Non-Null Count  Dtype  \n",
      "---  ------             --------------  -----  \n",
      " 0   oid                4759 non-null   object \n",
      " 1   timestamp          4759 non-null   object \n",
      " 2   date               4759 non-null   object \n",
      " 3   hour               4759 non-null   int64  \n",
      " 4   x                  4759 non-null   float64\n",
      " 5   y                  4759 non-null   float64\n",
      " 6   vehicle_count      4759 non-null   int64  \n",
      " 7   pedestrian_count   4759 non-null   int64  \n",
      " 8   congestion_level   4759 non-null   object \n",
      " 9   weather_condition  4759 non-null   object \n",
      " 10  temperature        4759 non-null   float64\n",
      " 11  location           4759 non-null   object \n",
      " 12  other_oid          4759 non-null   object \n",
      " 13  other_class        4759 non-null   object \n",
      " 14  other_x            4759 non-null   object \n",
      " 15  other_y            4759 non-null   object \n",
      " 16  body_roll          0 non-null      float64\n",
      " 17  body_pitch         0 non-null      float64\n",
      " 18  body_yaw           0 non-null      float64\n",
      " 19  head_roll          0 non-null      float64\n",
      " 20  head_pitch         0 non-null      float64\n",
      " 21  head_yaw           0 non-null      float64\n",
      "dtypes: float64(9), int64(3), object(10)\n",
      "memory usage: 818.1+ KB\n",
      "None\n",
      "\n",
      "First few rows of the DataFrame:\n"
     ]
    },
    {
     "data": {
      "text/html": [
       "<div>\n",
       "<style scoped>\n",
       "    .dataframe tbody tr th:only-of-type {\n",
       "        vertical-align: middle;\n",
       "    }\n",
       "\n",
       "    .dataframe tbody tr th {\n",
       "        vertical-align: top;\n",
       "    }\n",
       "\n",
       "    .dataframe thead th {\n",
       "        text-align: right;\n",
       "    }\n",
       "</style>\n",
       "<table border=\"1\" class=\"dataframe\">\n",
       "  <thead>\n",
       "    <tr style=\"text-align: right;\">\n",
       "      <th></th>\n",
       "      <th>oid</th>\n",
       "      <th>timestamp</th>\n",
       "      <th>date</th>\n",
       "      <th>hour</th>\n",
       "      <th>x</th>\n",
       "      <th>y</th>\n",
       "      <th>vehicle_count</th>\n",
       "      <th>pedestrian_count</th>\n",
       "      <th>congestion_level</th>\n",
       "      <th>weather_condition</th>\n",
       "      <th>...</th>\n",
       "      <th>other_oid</th>\n",
       "      <th>other_class</th>\n",
       "      <th>other_x</th>\n",
       "      <th>other_y</th>\n",
       "      <th>body_roll</th>\n",
       "      <th>body_pitch</th>\n",
       "      <th>body_yaw</th>\n",
       "      <th>head_roll</th>\n",
       "      <th>head_pitch</th>\n",
       "      <th>head_yaw</th>\n",
       "    </tr>\n",
       "  </thead>\n",
       "  <tbody>\n",
       "    <tr>\n",
       "      <th>0</th>\n",
       "      <td>oid_0</td>\n",
       "      <td>2023-01-01 00:00:00</td>\n",
       "      <td>2023-01-01</td>\n",
       "      <td>0</td>\n",
       "      <td>76.330009</td>\n",
       "      <td>37.469175</td>\n",
       "      <td>17</td>\n",
       "      <td>7</td>\n",
       "      <td>low</td>\n",
       "      <td>snowy</td>\n",
       "      <td>...</td>\n",
       "      <td>['oid_284', 'oid_111', 'oid_354', 'oid_403', '...</td>\n",
       "      <td>['vehicle', 'pedestrian', 'cyclist', 'cyclist'...</td>\n",
       "      <td>[80.16643167796968, 23.193568120739716, 99.294...</td>\n",
       "      <td>[10.968289671858821, 54.31625209147144, 12.196...</td>\n",
       "      <td>NaN</td>\n",
       "      <td>NaN</td>\n",
       "      <td>NaN</td>\n",
       "      <td>NaN</td>\n",
       "      <td>NaN</td>\n",
       "      <td>NaN</td>\n",
       "    </tr>\n",
       "    <tr>\n",
       "      <th>1</th>\n",
       "      <td>oid_1</td>\n",
       "      <td>2023-01-01 01:00:00</td>\n",
       "      <td>2023-01-01</td>\n",
       "      <td>1</td>\n",
       "      <td>6.867522</td>\n",
       "      <td>42.072927</td>\n",
       "      <td>3</td>\n",
       "      <td>14</td>\n",
       "      <td>low</td>\n",
       "      <td>sunny</td>\n",
       "      <td>...</td>\n",
       "      <td>['oid_934']</td>\n",
       "      <td>['vehicle']</td>\n",
       "      <td>[18.255748305303598]</td>\n",
       "      <td>[83.65003937685206]</td>\n",
       "      <td>NaN</td>\n",
       "      <td>NaN</td>\n",
       "      <td>NaN</td>\n",
       "      <td>NaN</td>\n",
       "      <td>NaN</td>\n",
       "      <td>NaN</td>\n",
       "    </tr>\n",
       "    <tr>\n",
       "      <th>2</th>\n",
       "      <td>oid_2</td>\n",
       "      <td>2023-01-01 02:00:00</td>\n",
       "      <td>2023-01-01</td>\n",
       "      <td>2</td>\n",
       "      <td>3.076632</td>\n",
       "      <td>84.575050</td>\n",
       "      <td>12</td>\n",
       "      <td>49</td>\n",
       "      <td>high</td>\n",
       "      <td>cloudy</td>\n",
       "      <td>...</td>\n",
       "      <td>['oid_787']</td>\n",
       "      <td>['vehicle']</td>\n",
       "      <td>[77.73281545583741]</td>\n",
       "      <td>[59.64309260346252]</td>\n",
       "      <td>NaN</td>\n",
       "      <td>NaN</td>\n",
       "      <td>NaN</td>\n",
       "      <td>NaN</td>\n",
       "      <td>NaN</td>\n",
       "      <td>NaN</td>\n",
       "    </tr>\n",
       "    <tr>\n",
       "      <th>3</th>\n",
       "      <td>oid_3</td>\n",
       "      <td>2023-01-01 03:00:00</td>\n",
       "      <td>2023-01-01</td>\n",
       "      <td>3</td>\n",
       "      <td>35.477393</td>\n",
       "      <td>56.481094</td>\n",
       "      <td>4</td>\n",
       "      <td>23</td>\n",
       "      <td>medium</td>\n",
       "      <td>sunny</td>\n",
       "      <td>...</td>\n",
       "      <td>['oid_3', 'oid_295', 'oid_293', 'oid_17']</td>\n",
       "      <td>['vehicle', 'vehicle', 'pedestrian', 'pedestri...</td>\n",
       "      <td>[42.84992200954636, 0.5787418544833112, 33.701...</td>\n",
       "      <td>[20.071410763398468, 78.18601194561984, 99.104...</td>\n",
       "      <td>NaN</td>\n",
       "      <td>NaN</td>\n",
       "      <td>NaN</td>\n",
       "      <td>NaN</td>\n",
       "      <td>NaN</td>\n",
       "      <td>NaN</td>\n",
       "    </tr>\n",
       "    <tr>\n",
       "      <th>4</th>\n",
       "      <td>oid_4</td>\n",
       "      <td>2023-01-01 04:00:00</td>\n",
       "      <td>2023-01-01</td>\n",
       "      <td>4</td>\n",
       "      <td>76.949776</td>\n",
       "      <td>94.133781</td>\n",
       "      <td>6</td>\n",
       "      <td>19</td>\n",
       "      <td>low</td>\n",
       "      <td>rainy</td>\n",
       "      <td>...</td>\n",
       "      <td>['oid_979']</td>\n",
       "      <td>['cyclist']</td>\n",
       "      <td>[58.92263259975318]</td>\n",
       "      <td>[12.460936540645529]</td>\n",
       "      <td>NaN</td>\n",
       "      <td>NaN</td>\n",
       "      <td>NaN</td>\n",
       "      <td>NaN</td>\n",
       "      <td>NaN</td>\n",
       "      <td>NaN</td>\n",
       "    </tr>\n",
       "  </tbody>\n",
       "</table>\n",
       "<p>5 rows × 22 columns</p>\n",
       "</div>"
      ],
      "text/plain": [
       "     oid            timestamp        date  hour          x          y  \\\n",
       "0  oid_0  2023-01-01 00:00:00  2023-01-01     0  76.330009  37.469175   \n",
       "1  oid_1  2023-01-01 01:00:00  2023-01-01     1   6.867522  42.072927   \n",
       "2  oid_2  2023-01-01 02:00:00  2023-01-01     2   3.076632  84.575050   \n",
       "3  oid_3  2023-01-01 03:00:00  2023-01-01     3  35.477393  56.481094   \n",
       "4  oid_4  2023-01-01 04:00:00  2023-01-01     4  76.949776  94.133781   \n",
       "\n",
       "   vehicle_count  pedestrian_count congestion_level weather_condition  ...  \\\n",
       "0             17                 7              low             snowy  ...   \n",
       "1              3                14              low             sunny  ...   \n",
       "2             12                49             high            cloudy  ...   \n",
       "3              4                23           medium             sunny  ...   \n",
       "4              6                19              low             rainy  ...   \n",
       "\n",
       "                                           other_oid  \\\n",
       "0  ['oid_284', 'oid_111', 'oid_354', 'oid_403', '...   \n",
       "1                                        ['oid_934']   \n",
       "2                                        ['oid_787']   \n",
       "3          ['oid_3', 'oid_295', 'oid_293', 'oid_17']   \n",
       "4                                        ['oid_979']   \n",
       "\n",
       "                                         other_class  \\\n",
       "0  ['vehicle', 'pedestrian', 'cyclist', 'cyclist'...   \n",
       "1                                        ['vehicle']   \n",
       "2                                        ['vehicle']   \n",
       "3  ['vehicle', 'vehicle', 'pedestrian', 'pedestri...   \n",
       "4                                        ['cyclist']   \n",
       "\n",
       "                                             other_x  \\\n",
       "0  [80.16643167796968, 23.193568120739716, 99.294...   \n",
       "1                               [18.255748305303598]   \n",
       "2                                [77.73281545583741]   \n",
       "3  [42.84992200954636, 0.5787418544833112, 33.701...   \n",
       "4                                [58.92263259975318]   \n",
       "\n",
       "                                             other_y body_roll body_pitch  \\\n",
       "0  [10.968289671858821, 54.31625209147144, 12.196...       NaN        NaN   \n",
       "1                                [83.65003937685206]       NaN        NaN   \n",
       "2                                [59.64309260346252]       NaN        NaN   \n",
       "3  [20.071410763398468, 78.18601194561984, 99.104...       NaN        NaN   \n",
       "4                               [12.460936540645529]       NaN        NaN   \n",
       "\n",
       "   body_yaw  head_roll  head_pitch  head_yaw  \n",
       "0       NaN        NaN         NaN       NaN  \n",
       "1       NaN        NaN         NaN       NaN  \n",
       "2       NaN        NaN         NaN       NaN  \n",
       "3       NaN        NaN         NaN       NaN  \n",
       "4       NaN        NaN         NaN       NaN  \n",
       "\n",
       "[5 rows x 22 columns]"
      ]
     },
     "execution_count": 30,
     "metadata": {},
     "output_type": "execute_result"
    }
   ],
   "source": [
    "file_path = \"/Users/jarma/Desktop/traffic_data.csv\"\n",
    "#file_path = '/Users/mac/Documents/GitHub/Traffic-analysis-project/traffic_data1 (1).csv'\n",
    "df1,data_info, data_head = load_and_get_info(file_path)\n",
    "print(data_info)\n",
    "print(\"\\nFirst few rows of the DataFrame:\")\n",
    "data_head #data_head"
   ]
  },
  {
   "cell_type": "markdown",
   "metadata": {
    "id": "rkUJwJkKmBgi"
   },
   "source": [
    "The dataset contains the following columns:\n",
    "\n",
    "oid: This column represents a unique identifier for each object record in the dataset.\n",
    "\n",
    "timestamp: This column stores the exact time of each record\n",
    "\n",
    "date: This column extracts the date portion from the timestamp column, providing the day without the time information.\n",
    "\n",
    "hour: This column extracts the hour of the day (0-23) from the 'timestamp' column.\n",
    "\n",
    "x: This column represents the X-coordinate of each object in our data.\n",
    "\n",
    "y: This column represents the Y-coordinate of each object in our data.\n",
    "\n",
    "vehicle_count: This column indicates the number of vehicles observed in the vicinity of each object record.\n",
    "\n",
    "pedestrian_count: This column reflects the number of pedestrians observed in the vicinity of each object record.\n",
    "\n",
    "congestion_level: This column categorizes the traffic congestion level at the time of each record.\n",
    "\n",
    "weather_condition: This column represents the weather condition at the time of each record\n",
    "\n",
    "temperature: This column holds the temperature recorded at the time of each data point.\n"
   ]
  },
  {
   "cell_type": "markdown",
   "metadata": {
    "id": "eYnYBsqwmkAC"
   },
   "source": [
    "## Data Cleaning"
   ]
  },
  {
   "cell_type": "markdown",
   "metadata": {
    "id": "LjBEsNLbmmyY"
   },
   "source": [
    "### Step 1: Dropping  the empty columns\n",
    "\n",
    "The columns body_roll, body_pitch, body_yaw, head_roll, head_pitch, and head_yaw have no data therefore will not be useful for our project. We will therefore proceed to drop them."
   ]
  },
  {
   "cell_type": "code",
   "execution_count": 31,
   "metadata": {
    "id": "9lL-LmMAoyvl"
   },
   "outputs": [],
   "source": [
    "columns_to_drop = ['body_roll', 'body_pitch', 'body_yaw', 'head_roll', 'head_pitch', 'head_yaw']\n",
    "cleaned_df = df1.drop(columns=columns_to_drop)"
   ]
  },
  {
   "cell_type": "markdown",
   "metadata": {
    "id": "3Q0cf1K5r8H-"
   },
   "source": [
    "Step 2: Convert the 'timestamp' column to datetime format"
   ]
  },
  {
   "cell_type": "code",
   "execution_count": 32,
   "metadata": {
    "id": "M2Vpo2Skr8ad"
   },
   "outputs": [],
   "source": [
    "cleaned_df['date'] = pd.to_datetime(cleaned_df['date'])\n",
    "cleaned_df['timestamp'] = pd.to_datetime(cleaned_df['timestamp'])"
   ]
  },
  {
   "cell_type": "markdown",
   "metadata": {
    "id": "cLcwISUov9Gg"
   },
   "source": [
    "### Step 3: Check for and remove duplicate rows\n",
    "\n"
   ]
  },
  {
   "cell_type": "code",
   "execution_count": 33,
   "metadata": {
    "colab": {
     "base_uri": "https://localhost:8080/",
     "height": 451
    },
    "id": "EhkuxjX0v8C2",
    "outputId": "d267dfbd-e064-4fba-ab7a-f4b75b3d4d36"
   },
   "outputs": [
    {
     "data": {
      "text/html": [
       "<div>\n",
       "<style scoped>\n",
       "    .dataframe tbody tr th:only-of-type {\n",
       "        vertical-align: middle;\n",
       "    }\n",
       "\n",
       "    .dataframe tbody tr th {\n",
       "        vertical-align: top;\n",
       "    }\n",
       "\n",
       "    .dataframe thead th {\n",
       "        text-align: right;\n",
       "    }\n",
       "</style>\n",
       "<table border=\"1\" class=\"dataframe\">\n",
       "  <thead>\n",
       "    <tr style=\"text-align: right;\">\n",
       "      <th></th>\n",
       "      <th>oid</th>\n",
       "      <th>timestamp</th>\n",
       "      <th>date</th>\n",
       "      <th>hour</th>\n",
       "      <th>x</th>\n",
       "      <th>y</th>\n",
       "      <th>vehicle_count</th>\n",
       "      <th>pedestrian_count</th>\n",
       "      <th>congestion_level</th>\n",
       "      <th>weather_condition</th>\n",
       "      <th>temperature</th>\n",
       "      <th>location</th>\n",
       "      <th>other_oid</th>\n",
       "      <th>other_class</th>\n",
       "      <th>other_x</th>\n",
       "      <th>other_y</th>\n",
       "    </tr>\n",
       "  </thead>\n",
       "  <tbody>\n",
       "    <tr>\n",
       "      <th>0</th>\n",
       "      <td>oid_0</td>\n",
       "      <td>2023-01-01 00:00:00</td>\n",
       "      <td>2023-01-01</td>\n",
       "      <td>0</td>\n",
       "      <td>76.330009</td>\n",
       "      <td>37.469175</td>\n",
       "      <td>17</td>\n",
       "      <td>7</td>\n",
       "      <td>low</td>\n",
       "      <td>snowy</td>\n",
       "      <td>-7.048842</td>\n",
       "      <td>Location_0</td>\n",
       "      <td>['oid_284', 'oid_111', 'oid_354', 'oid_403', '...</td>\n",
       "      <td>['vehicle', 'pedestrian', 'cyclist', 'cyclist'...</td>\n",
       "      <td>[80.16643167796968, 23.193568120739716, 99.294...</td>\n",
       "      <td>[10.968289671858821, 54.31625209147144, 12.196...</td>\n",
       "    </tr>\n",
       "    <tr>\n",
       "      <th>1</th>\n",
       "      <td>oid_1</td>\n",
       "      <td>2023-01-01 01:00:00</td>\n",
       "      <td>2023-01-01</td>\n",
       "      <td>1</td>\n",
       "      <td>6.867522</td>\n",
       "      <td>42.072927</td>\n",
       "      <td>3</td>\n",
       "      <td>14</td>\n",
       "      <td>low</td>\n",
       "      <td>sunny</td>\n",
       "      <td>25.756664</td>\n",
       "      <td>Location_1</td>\n",
       "      <td>['oid_934']</td>\n",
       "      <td>['vehicle']</td>\n",
       "      <td>[18.255748305303598]</td>\n",
       "      <td>[83.65003937685206]</td>\n",
       "    </tr>\n",
       "    <tr>\n",
       "      <th>2</th>\n",
       "      <td>oid_2</td>\n",
       "      <td>2023-01-01 02:00:00</td>\n",
       "      <td>2023-01-01</td>\n",
       "      <td>2</td>\n",
       "      <td>3.076632</td>\n",
       "      <td>84.575050</td>\n",
       "      <td>12</td>\n",
       "      <td>49</td>\n",
       "      <td>high</td>\n",
       "      <td>cloudy</td>\n",
       "      <td>33.568159</td>\n",
       "      <td>Location_2</td>\n",
       "      <td>['oid_787']</td>\n",
       "      <td>['vehicle']</td>\n",
       "      <td>[77.73281545583741]</td>\n",
       "      <td>[59.64309260346252]</td>\n",
       "    </tr>\n",
       "    <tr>\n",
       "      <th>3</th>\n",
       "      <td>oid_3</td>\n",
       "      <td>2023-01-01 03:00:00</td>\n",
       "      <td>2023-01-01</td>\n",
       "      <td>3</td>\n",
       "      <td>35.477393</td>\n",
       "      <td>56.481094</td>\n",
       "      <td>4</td>\n",
       "      <td>23</td>\n",
       "      <td>medium</td>\n",
       "      <td>sunny</td>\n",
       "      <td>34.154008</td>\n",
       "      <td>Location_3</td>\n",
       "      <td>['oid_3', 'oid_295', 'oid_293', 'oid_17']</td>\n",
       "      <td>['vehicle', 'vehicle', 'pedestrian', 'pedestri...</td>\n",
       "      <td>[42.84992200954636, 0.5787418544833112, 33.701...</td>\n",
       "      <td>[20.071410763398468, 78.18601194561984, 99.104...</td>\n",
       "    </tr>\n",
       "    <tr>\n",
       "      <th>4</th>\n",
       "      <td>oid_4</td>\n",
       "      <td>2023-01-01 04:00:00</td>\n",
       "      <td>2023-01-01</td>\n",
       "      <td>4</td>\n",
       "      <td>76.949776</td>\n",
       "      <td>94.133781</td>\n",
       "      <td>6</td>\n",
       "      <td>19</td>\n",
       "      <td>low</td>\n",
       "      <td>rainy</td>\n",
       "      <td>-1.296653</td>\n",
       "      <td>Location_4</td>\n",
       "      <td>['oid_979']</td>\n",
       "      <td>['cyclist']</td>\n",
       "      <td>[58.92263259975318]</td>\n",
       "      <td>[12.460936540645529]</td>\n",
       "    </tr>\n",
       "  </tbody>\n",
       "</table>\n",
       "</div>"
      ],
      "text/plain": [
       "     oid           timestamp       date  hour          x          y  \\\n",
       "0  oid_0 2023-01-01 00:00:00 2023-01-01     0  76.330009  37.469175   \n",
       "1  oid_1 2023-01-01 01:00:00 2023-01-01     1   6.867522  42.072927   \n",
       "2  oid_2 2023-01-01 02:00:00 2023-01-01     2   3.076632  84.575050   \n",
       "3  oid_3 2023-01-01 03:00:00 2023-01-01     3  35.477393  56.481094   \n",
       "4  oid_4 2023-01-01 04:00:00 2023-01-01     4  76.949776  94.133781   \n",
       "\n",
       "   vehicle_count  pedestrian_count congestion_level weather_condition  \\\n",
       "0             17                 7              low             snowy   \n",
       "1              3                14              low             sunny   \n",
       "2             12                49             high            cloudy   \n",
       "3              4                23           medium             sunny   \n",
       "4              6                19              low             rainy   \n",
       "\n",
       "   temperature    location                                          other_oid  \\\n",
       "0    -7.048842  Location_0  ['oid_284', 'oid_111', 'oid_354', 'oid_403', '...   \n",
       "1    25.756664  Location_1                                        ['oid_934']   \n",
       "2    33.568159  Location_2                                        ['oid_787']   \n",
       "3    34.154008  Location_3          ['oid_3', 'oid_295', 'oid_293', 'oid_17']   \n",
       "4    -1.296653  Location_4                                        ['oid_979']   \n",
       "\n",
       "                                         other_class  \\\n",
       "0  ['vehicle', 'pedestrian', 'cyclist', 'cyclist'...   \n",
       "1                                        ['vehicle']   \n",
       "2                                        ['vehicle']   \n",
       "3  ['vehicle', 'vehicle', 'pedestrian', 'pedestri...   \n",
       "4                                        ['cyclist']   \n",
       "\n",
       "                                             other_x  \\\n",
       "0  [80.16643167796968, 23.193568120739716, 99.294...   \n",
       "1                               [18.255748305303598]   \n",
       "2                                [77.73281545583741]   \n",
       "3  [42.84992200954636, 0.5787418544833112, 33.701...   \n",
       "4                                [58.92263259975318]   \n",
       "\n",
       "                                             other_y  \n",
       "0  [10.968289671858821, 54.31625209147144, 12.196...  \n",
       "1                                [83.65003937685206]  \n",
       "2                                [59.64309260346252]  \n",
       "3  [20.071410763398468, 78.18601194561984, 99.104...  \n",
       "4                               [12.460936540645529]  "
      ]
     },
     "execution_count": 33,
     "metadata": {},
     "output_type": "execute_result"
    }
   ],
   "source": [
    "cleaned_df = cleaned_df.drop_duplicates()\n",
    "cleaned_df.head()"
   ]
  },
  {
   "cell_type": "markdown",
   "metadata": {
    "id": "9dh7v_Sktgvw"
   },
   "source": [
    "Below we will go ahead and breakdown timestamps:"
   ]
  },
  {
   "cell_type": "code",
   "execution_count": 34,
   "metadata": {
    "id": "-J2cZihWtgvw"
   },
   "outputs": [],
   "source": [
    "import pandas as pd\n",
    "\n",
    "\n",
    "# Extract date components\n",
    "cleaned_df['year'] = cleaned_df['timestamp'].dt.year\n",
    "cleaned_df['month'] = cleaned_df['timestamp'].dt.month\n",
    "\n",
    "# Create time-based features\n",
    "cleaned_df['day_of_week'] = cleaned_df['timestamp'].dt.dayofweek\n",
    "cleaned_df['hour'] = cleaned_df['timestamp'].dt.hour\n",
    "\n"
   ]
  },
  {
   "cell_type": "markdown",
   "metadata": {
    "id": "2TBhNlTAtgvx"
   },
   "source": [
    "By breaking down our project into components, we can be able to use our data in more useful ways for example:\n",
    "- Comapring traffic levels between weekdays and weekends\n",
    "- Identifying patterns in traffic congestion at different times of the day."
   ]
  },
  {
   "cell_type": "code",
   "execution_count": 35,
   "metadata": {
    "colab": {
     "base_uri": "https://localhost:8080/",
     "height": 834
    },
    "id": "eh3CyAKstgvx",
    "outputId": "77068c26-b276-48f6-db3e-0c810f66ce5d"
   },
   "outputs": [
    {
     "data": {
      "text/html": [
       "<div>\n",
       "<style scoped>\n",
       "    .dataframe tbody tr th:only-of-type {\n",
       "        vertical-align: middle;\n",
       "    }\n",
       "\n",
       "    .dataframe tbody tr th {\n",
       "        vertical-align: top;\n",
       "    }\n",
       "\n",
       "    .dataframe thead th {\n",
       "        text-align: right;\n",
       "    }\n",
       "</style>\n",
       "<table border=\"1\" class=\"dataframe\">\n",
       "  <thead>\n",
       "    <tr style=\"text-align: right;\">\n",
       "      <th></th>\n",
       "      <th>oid</th>\n",
       "      <th>timestamp</th>\n",
       "      <th>date</th>\n",
       "      <th>hour</th>\n",
       "      <th>x</th>\n",
       "      <th>y</th>\n",
       "      <th>vehicle_count</th>\n",
       "      <th>pedestrian_count</th>\n",
       "      <th>congestion_level</th>\n",
       "      <th>weather_condition</th>\n",
       "      <th>temperature</th>\n",
       "      <th>location</th>\n",
       "      <th>other_oid</th>\n",
       "      <th>other_class</th>\n",
       "      <th>other_x</th>\n",
       "      <th>other_y</th>\n",
       "      <th>year</th>\n",
       "      <th>month</th>\n",
       "      <th>day_of_week</th>\n",
       "    </tr>\n",
       "  </thead>\n",
       "  <tbody>\n",
       "    <tr>\n",
       "      <th>0</th>\n",
       "      <td>oid_0</td>\n",
       "      <td>2023-01-01 00:00:00</td>\n",
       "      <td>2023-01-01</td>\n",
       "      <td>0</td>\n",
       "      <td>76.330009</td>\n",
       "      <td>37.469175</td>\n",
       "      <td>17</td>\n",
       "      <td>7</td>\n",
       "      <td>low</td>\n",
       "      <td>snowy</td>\n",
       "      <td>-7.048842</td>\n",
       "      <td>Location_0</td>\n",
       "      <td>['oid_284', 'oid_111', 'oid_354', 'oid_403', '...</td>\n",
       "      <td>['vehicle', 'pedestrian', 'cyclist', 'cyclist'...</td>\n",
       "      <td>[80.16643167796968, 23.193568120739716, 99.294...</td>\n",
       "      <td>[10.968289671858821, 54.31625209147144, 12.196...</td>\n",
       "      <td>2023</td>\n",
       "      <td>1</td>\n",
       "      <td>6</td>\n",
       "    </tr>\n",
       "    <tr>\n",
       "      <th>1</th>\n",
       "      <td>oid_1</td>\n",
       "      <td>2023-01-01 01:00:00</td>\n",
       "      <td>2023-01-01</td>\n",
       "      <td>1</td>\n",
       "      <td>6.867522</td>\n",
       "      <td>42.072927</td>\n",
       "      <td>3</td>\n",
       "      <td>14</td>\n",
       "      <td>low</td>\n",
       "      <td>sunny</td>\n",
       "      <td>25.756664</td>\n",
       "      <td>Location_1</td>\n",
       "      <td>['oid_934']</td>\n",
       "      <td>['vehicle']</td>\n",
       "      <td>[18.255748305303598]</td>\n",
       "      <td>[83.65003937685206]</td>\n",
       "      <td>2023</td>\n",
       "      <td>1</td>\n",
       "      <td>6</td>\n",
       "    </tr>\n",
       "    <tr>\n",
       "      <th>2</th>\n",
       "      <td>oid_2</td>\n",
       "      <td>2023-01-01 02:00:00</td>\n",
       "      <td>2023-01-01</td>\n",
       "      <td>2</td>\n",
       "      <td>3.076632</td>\n",
       "      <td>84.575050</td>\n",
       "      <td>12</td>\n",
       "      <td>49</td>\n",
       "      <td>high</td>\n",
       "      <td>cloudy</td>\n",
       "      <td>33.568159</td>\n",
       "      <td>Location_2</td>\n",
       "      <td>['oid_787']</td>\n",
       "      <td>['vehicle']</td>\n",
       "      <td>[77.73281545583741]</td>\n",
       "      <td>[59.64309260346252]</td>\n",
       "      <td>2023</td>\n",
       "      <td>1</td>\n",
       "      <td>6</td>\n",
       "    </tr>\n",
       "    <tr>\n",
       "      <th>3</th>\n",
       "      <td>oid_3</td>\n",
       "      <td>2023-01-01 03:00:00</td>\n",
       "      <td>2023-01-01</td>\n",
       "      <td>3</td>\n",
       "      <td>35.477393</td>\n",
       "      <td>56.481094</td>\n",
       "      <td>4</td>\n",
       "      <td>23</td>\n",
       "      <td>medium</td>\n",
       "      <td>sunny</td>\n",
       "      <td>34.154008</td>\n",
       "      <td>Location_3</td>\n",
       "      <td>['oid_3', 'oid_295', 'oid_293', 'oid_17']</td>\n",
       "      <td>['vehicle', 'vehicle', 'pedestrian', 'pedestri...</td>\n",
       "      <td>[42.84992200954636, 0.5787418544833112, 33.701...</td>\n",
       "      <td>[20.071410763398468, 78.18601194561984, 99.104...</td>\n",
       "      <td>2023</td>\n",
       "      <td>1</td>\n",
       "      <td>6</td>\n",
       "    </tr>\n",
       "    <tr>\n",
       "      <th>4</th>\n",
       "      <td>oid_4</td>\n",
       "      <td>2023-01-01 04:00:00</td>\n",
       "      <td>2023-01-01</td>\n",
       "      <td>4</td>\n",
       "      <td>76.949776</td>\n",
       "      <td>94.133781</td>\n",
       "      <td>6</td>\n",
       "      <td>19</td>\n",
       "      <td>low</td>\n",
       "      <td>rainy</td>\n",
       "      <td>-1.296653</td>\n",
       "      <td>Location_4</td>\n",
       "      <td>['oid_979']</td>\n",
       "      <td>['cyclist']</td>\n",
       "      <td>[58.92263259975318]</td>\n",
       "      <td>[12.460936540645529]</td>\n",
       "      <td>2023</td>\n",
       "      <td>1</td>\n",
       "      <td>6</td>\n",
       "    </tr>\n",
       "    <tr>\n",
       "      <th>5</th>\n",
       "      <td>oid_5</td>\n",
       "      <td>2023-01-01 05:00:00</td>\n",
       "      <td>2023-01-01</td>\n",
       "      <td>5</td>\n",
       "      <td>71.310578</td>\n",
       "      <td>89.333961</td>\n",
       "      <td>15</td>\n",
       "      <td>33</td>\n",
       "      <td>high</td>\n",
       "      <td>snowy</td>\n",
       "      <td>26.245580</td>\n",
       "      <td>Location_5</td>\n",
       "      <td>['oid_541', 'oid_367', 'oid_912']</td>\n",
       "      <td>['cyclist', 'cyclist', 'pedestrian']</td>\n",
       "      <td>[26.80521388141838, 42.38347771179725, 72.8236...</td>\n",
       "      <td>[55.50172247282388, 73.11659830778898, 91.7515...</td>\n",
       "      <td>2023</td>\n",
       "      <td>1</td>\n",
       "      <td>6</td>\n",
       "    </tr>\n",
       "    <tr>\n",
       "      <th>6</th>\n",
       "      <td>oid_6</td>\n",
       "      <td>2023-01-01 06:00:00</td>\n",
       "      <td>2023-01-01</td>\n",
       "      <td>6</td>\n",
       "      <td>13.754011</td>\n",
       "      <td>48.245646</td>\n",
       "      <td>11</td>\n",
       "      <td>9</td>\n",
       "      <td>low</td>\n",
       "      <td>sunny</td>\n",
       "      <td>26.389156</td>\n",
       "      <td>Location_6</td>\n",
       "      <td>['oid_592', 'oid_699', 'oid_783', 'oid_789', '...</td>\n",
       "      <td>['vehicle', 'vehicle', 'pedestrian', 'pedestri...</td>\n",
       "      <td>[22.5413353172063, 89.92316387700629, 87.03666...</td>\n",
       "      <td>[71.42968100176586, 9.94642134951219, 96.18504...</td>\n",
       "      <td>2023</td>\n",
       "      <td>1</td>\n",
       "      <td>6</td>\n",
       "    </tr>\n",
       "    <tr>\n",
       "      <th>7</th>\n",
       "      <td>oid_7</td>\n",
       "      <td>2023-01-01 07:00:00</td>\n",
       "      <td>2023-01-01</td>\n",
       "      <td>7</td>\n",
       "      <td>81.061662</td>\n",
       "      <td>28.188148</td>\n",
       "      <td>15</td>\n",
       "      <td>11</td>\n",
       "      <td>medium</td>\n",
       "      <td>snowy</td>\n",
       "      <td>-8.703227</td>\n",
       "      <td>Location_7</td>\n",
       "      <td>['oid_354']</td>\n",
       "      <td>['vehicle']</td>\n",
       "      <td>[81.59701492703762]</td>\n",
       "      <td>[86.72715536650595]</td>\n",
       "      <td>2023</td>\n",
       "      <td>1</td>\n",
       "      <td>6</td>\n",
       "    </tr>\n",
       "    <tr>\n",
       "      <th>8</th>\n",
       "      <td>oid_8</td>\n",
       "      <td>2023-01-01 08:00:00</td>\n",
       "      <td>2023-01-01</td>\n",
       "      <td>8</td>\n",
       "      <td>87.816034</td>\n",
       "      <td>39.362988</td>\n",
       "      <td>3</td>\n",
       "      <td>12</td>\n",
       "      <td>medium</td>\n",
       "      <td>sunny</td>\n",
       "      <td>23.729499</td>\n",
       "      <td>Location_8</td>\n",
       "      <td>['oid_872', 'oid_362', 'oid_486']</td>\n",
       "      <td>['vehicle', 'cyclist', 'cyclist']</td>\n",
       "      <td>[24.195898102204104, 25.39676053509188, 28.502...</td>\n",
       "      <td>[47.21731412233026, 37.96164717219131, 16.6673...</td>\n",
       "      <td>2023</td>\n",
       "      <td>1</td>\n",
       "      <td>6</td>\n",
       "    </tr>\n",
       "    <tr>\n",
       "      <th>9</th>\n",
       "      <td>oid_9</td>\n",
       "      <td>2023-01-01 09:00:00</td>\n",
       "      <td>2023-01-01</td>\n",
       "      <td>9</td>\n",
       "      <td>68.806347</td>\n",
       "      <td>2.551334</td>\n",
       "      <td>2</td>\n",
       "      <td>9</td>\n",
       "      <td>high</td>\n",
       "      <td>rainy</td>\n",
       "      <td>29.737843</td>\n",
       "      <td>Location_9</td>\n",
       "      <td>['oid_191', 'oid_241', 'oid_708', 'oid_272']</td>\n",
       "      <td>['cyclist', 'pedestrian', 'vehicle', 'cyclist']</td>\n",
       "      <td>[36.71817656917603, 73.06433889448265, 23.8781...</td>\n",
       "      <td>[4.668063990489724, 3.212343024031483, 24.1347...</td>\n",
       "      <td>2023</td>\n",
       "      <td>1</td>\n",
       "      <td>6</td>\n",
       "    </tr>\n",
       "  </tbody>\n",
       "</table>\n",
       "</div>"
      ],
      "text/plain": [
       "     oid           timestamp       date  hour          x          y  \\\n",
       "0  oid_0 2023-01-01 00:00:00 2023-01-01     0  76.330009  37.469175   \n",
       "1  oid_1 2023-01-01 01:00:00 2023-01-01     1   6.867522  42.072927   \n",
       "2  oid_2 2023-01-01 02:00:00 2023-01-01     2   3.076632  84.575050   \n",
       "3  oid_3 2023-01-01 03:00:00 2023-01-01     3  35.477393  56.481094   \n",
       "4  oid_4 2023-01-01 04:00:00 2023-01-01     4  76.949776  94.133781   \n",
       "5  oid_5 2023-01-01 05:00:00 2023-01-01     5  71.310578  89.333961   \n",
       "6  oid_6 2023-01-01 06:00:00 2023-01-01     6  13.754011  48.245646   \n",
       "7  oid_7 2023-01-01 07:00:00 2023-01-01     7  81.061662  28.188148   \n",
       "8  oid_8 2023-01-01 08:00:00 2023-01-01     8  87.816034  39.362988   \n",
       "9  oid_9 2023-01-01 09:00:00 2023-01-01     9  68.806347   2.551334   \n",
       "\n",
       "   vehicle_count  pedestrian_count congestion_level weather_condition  \\\n",
       "0             17                 7              low             snowy   \n",
       "1              3                14              low             sunny   \n",
       "2             12                49             high            cloudy   \n",
       "3              4                23           medium             sunny   \n",
       "4              6                19              low             rainy   \n",
       "5             15                33             high             snowy   \n",
       "6             11                 9              low             sunny   \n",
       "7             15                11           medium             snowy   \n",
       "8              3                12           medium             sunny   \n",
       "9              2                 9             high             rainy   \n",
       "\n",
       "   temperature    location                                          other_oid  \\\n",
       "0    -7.048842  Location_0  ['oid_284', 'oid_111', 'oid_354', 'oid_403', '...   \n",
       "1    25.756664  Location_1                                        ['oid_934']   \n",
       "2    33.568159  Location_2                                        ['oid_787']   \n",
       "3    34.154008  Location_3          ['oid_3', 'oid_295', 'oid_293', 'oid_17']   \n",
       "4    -1.296653  Location_4                                        ['oid_979']   \n",
       "5    26.245580  Location_5                  ['oid_541', 'oid_367', 'oid_912']   \n",
       "6    26.389156  Location_6  ['oid_592', 'oid_699', 'oid_783', 'oid_789', '...   \n",
       "7    -8.703227  Location_7                                        ['oid_354']   \n",
       "8    23.729499  Location_8                  ['oid_872', 'oid_362', 'oid_486']   \n",
       "9    29.737843  Location_9       ['oid_191', 'oid_241', 'oid_708', 'oid_272']   \n",
       "\n",
       "                                         other_class  \\\n",
       "0  ['vehicle', 'pedestrian', 'cyclist', 'cyclist'...   \n",
       "1                                        ['vehicle']   \n",
       "2                                        ['vehicle']   \n",
       "3  ['vehicle', 'vehicle', 'pedestrian', 'pedestri...   \n",
       "4                                        ['cyclist']   \n",
       "5               ['cyclist', 'cyclist', 'pedestrian']   \n",
       "6  ['vehicle', 'vehicle', 'pedestrian', 'pedestri...   \n",
       "7                                        ['vehicle']   \n",
       "8                  ['vehicle', 'cyclist', 'cyclist']   \n",
       "9    ['cyclist', 'pedestrian', 'vehicle', 'cyclist']   \n",
       "\n",
       "                                             other_x  \\\n",
       "0  [80.16643167796968, 23.193568120739716, 99.294...   \n",
       "1                               [18.255748305303598]   \n",
       "2                                [77.73281545583741]   \n",
       "3  [42.84992200954636, 0.5787418544833112, 33.701...   \n",
       "4                                [58.92263259975318]   \n",
       "5  [26.80521388141838, 42.38347771179725, 72.8236...   \n",
       "6  [22.5413353172063, 89.92316387700629, 87.03666...   \n",
       "7                                [81.59701492703762]   \n",
       "8  [24.195898102204104, 25.39676053509188, 28.502...   \n",
       "9  [36.71817656917603, 73.06433889448265, 23.8781...   \n",
       "\n",
       "                                             other_y  year  month  day_of_week  \n",
       "0  [10.968289671858821, 54.31625209147144, 12.196...  2023      1            6  \n",
       "1                                [83.65003937685206]  2023      1            6  \n",
       "2                                [59.64309260346252]  2023      1            6  \n",
       "3  [20.071410763398468, 78.18601194561984, 99.104...  2023      1            6  \n",
       "4                               [12.460936540645529]  2023      1            6  \n",
       "5  [55.50172247282388, 73.11659830778898, 91.7515...  2023      1            6  \n",
       "6  [71.42968100176586, 9.94642134951219, 96.18504...  2023      1            6  \n",
       "7                                [86.72715536650595]  2023      1            6  \n",
       "8  [47.21731412233026, 37.96164717219131, 16.6673...  2023      1            6  \n",
       "9  [4.668063990489724, 3.212343024031483, 24.1347...  2023      1            6  "
      ]
     },
     "execution_count": 35,
     "metadata": {},
     "output_type": "execute_result"
    }
   ],
   "source": [
    "cleaned_df.head(10)"
   ]
  },
  {
   "cell_type": "markdown",
   "metadata": {
    "id": "fYQgYKDFtgvx"
   },
   "source": [
    "From the output,we see that we now have columns indicating the year, month and day of the week."
   ]
  },
  {
   "cell_type": "markdown",
   "metadata": {
    "id": "rvxNKiY-tgvy"
   },
   "source": [
    "Let us see whether it works:"
   ]
  },
  {
   "cell_type": "code",
   "execution_count": 36,
   "metadata": {
    "colab": {
     "base_uri": "https://localhost:8080/",
     "height": 70
    },
    "id": "RiTAAs_ytgvy",
    "outputId": "77ab2d45-3d4a-4f99-df22-f3195dd688f0"
   },
   "outputs": [
    {
     "data": {
      "text/plain": [
       "\"import pandas as pd\\n\\n# Sample DataFrame\\ndata = {'timestamp': ['2023-01-15', '2023-02-10', '2023-01-25', '2023-03-05'],\\n        'value': [10, 20, 15, 25]}\\ndf = pd.DataFrame(data)\\ndf['timestamp'] = pd.to_datetime(df['timestamp'])\\ndf['month'] = df['timestamp'].dt.month\\n\\n# Filter for January data\\njanuary_data = df[df['month'] == 1]\\n\\nprint(january_data)\\n\""
      ]
     },
     "execution_count": 36,
     "metadata": {},
     "output_type": "execute_result"
    }
   ],
   "source": [
    "\"\"\"import pandas as pd\n",
    "\n",
    "# Sample DataFrame\n",
    "data = {'timestamp': ['2023-01-15', '2023-02-10', '2023-01-25', '2023-03-05'],\n",
    "        'value': [10, 20, 15, 25]}\n",
    "df = pd.DataFrame(data)\n",
    "df['timestamp'] = pd.to_datetime(df['timestamp'])\n",
    "df['month'] = df['timestamp'].dt.month\n",
    "\n",
    "# Filter for January data\n",
    "january_data = df[df['month'] == 1]\n",
    "\n",
    "print(january_data)\n",
    "\"\"\""
   ]
  },
  {
   "cell_type": "markdown",
   "metadata": {
    "id": "D7iMjCGVtgvy"
   },
   "source": [
    "From the output we can see that the from the sample dataframe we had provided,the following timestamps are the ones that belong to the month of January."
   ]
  },
  {
   "cell_type": "code",
   "execution_count": 37,
   "metadata": {
    "colab": {
     "base_uri": "https://localhost:8080/"
    },
    "id": "Ocs0PEf4tgvz",
    "outputId": "f5ef4b1a-c269-4b4f-dff0-8fe264e611b2"
   },
   "outputs": [
    {
     "name": "stdout",
     "output_type": "stream",
     "text": [
      "<class 'pandas.core.frame.DataFrame'>\n",
      "RangeIndex: 4759 entries, 0 to 4758\n",
      "Data columns (total 19 columns):\n",
      " #   Column             Non-Null Count  Dtype         \n",
      "---  ------             --------------  -----         \n",
      " 0   oid                4759 non-null   object        \n",
      " 1   timestamp          4759 non-null   datetime64[ns]\n",
      " 2   date               4759 non-null   datetime64[ns]\n",
      " 3   hour               4759 non-null   int32         \n",
      " 4   x                  4759 non-null   float64       \n",
      " 5   y                  4759 non-null   float64       \n",
      " 6   vehicle_count      4759 non-null   int64         \n",
      " 7   pedestrian_count   4759 non-null   int64         \n",
      " 8   congestion_level   4759 non-null   object        \n",
      " 9   weather_condition  4759 non-null   object        \n",
      " 10  temperature        4759 non-null   float64       \n",
      " 11  location           4759 non-null   object        \n",
      " 12  other_oid          4759 non-null   object        \n",
      " 13  other_class        4759 non-null   object        \n",
      " 14  other_x            4759 non-null   object        \n",
      " 15  other_y            4759 non-null   object        \n",
      " 16  year               4759 non-null   int32         \n",
      " 17  month              4759 non-null   int32         \n",
      " 18  day_of_week        4759 non-null   int32         \n",
      "dtypes: datetime64[ns](2), float64(3), int32(4), int64(2), object(8)\n",
      "memory usage: 632.2+ KB\n"
     ]
    }
   ],
   "source": [
    "cleaned_df.info()"
   ]
  },
  {
   "cell_type": "markdown",
   "metadata": {
    "id": "jY0MI9kg5qg0"
   },
   "source": [
    "# **EDA**"
   ]
  },
  {
   "cell_type": "code",
   "execution_count": 38,
   "metadata": {
    "colab": {
     "base_uri": "https://localhost:8080/"
    },
    "id": "ei2nUMof2h4a",
    "outputId": "e744f559-09f2-4e72-dc9f-46189b11fcd8"
   },
   "outputs": [
    {
     "name": "stdout",
     "output_type": "stream",
     "text": [
      "<class 'pandas.core.frame.DataFrame'>\n",
      "RangeIndex: 4759 entries, 0 to 4758\n",
      "Data columns (total 19 columns):\n",
      " #   Column             Non-Null Count  Dtype         \n",
      "---  ------             --------------  -----         \n",
      " 0   oid                4759 non-null   object        \n",
      " 1   timestamp          4759 non-null   datetime64[ns]\n",
      " 2   date               4759 non-null   datetime64[ns]\n",
      " 3   hour               4759 non-null   int32         \n",
      " 4   x                  4759 non-null   float64       \n",
      " 5   y                  4759 non-null   float64       \n",
      " 6   vehicle_count      4759 non-null   int64         \n",
      " 7   pedestrian_count   4759 non-null   int64         \n",
      " 8   congestion_level   4759 non-null   object        \n",
      " 9   weather_condition  4759 non-null   object        \n",
      " 10  temperature        4759 non-null   float64       \n",
      " 11  location           4759 non-null   object        \n",
      " 12  other_oid          4759 non-null   object        \n",
      " 13  other_class        4759 non-null   object        \n",
      " 14  other_x            4759 non-null   object        \n",
      " 15  other_y            4759 non-null   object        \n",
      " 16  year               4759 non-null   int32         \n",
      " 17  month              4759 non-null   int32         \n",
      " 18  day_of_week        4759 non-null   int32         \n",
      "dtypes: datetime64[ns](2), float64(3), int32(4), int64(2), object(8)\n",
      "memory usage: 632.2+ KB\n"
     ]
    }
   ],
   "source": [
    "df = cleaned_df\n",
    "df.info()"
   ]
  },
  {
   "cell_type": "markdown",
   "metadata": {
    "id": "WPt5ErYhx6NH"
   },
   "source": [
    "Checking the values in the different columns"
   ]
  },
  {
   "cell_type": "markdown",
   "metadata": {
    "id": "KOpSFldOyNXJ"
   },
   "source": [
    "Plotting\n",
    "create a function that will be used to plot histograms to show frequency in the different applicable columns"
   ]
  },
  {
   "cell_type": "code",
   "execution_count": 39,
   "metadata": {
    "id": "R1DJ1AxpwCA5"
   },
   "outputs": [],
   "source": [
    "def frequency_plotting(df, column_name):\n",
    "    \"\"\"\n",
    "    Plots a bar graph of the frequency distribution for a given column in a DataFrame,\n",
    "    with values displayed on top of each bar.\n",
    "\n",
    "    Args:\n",
    "        df (pandas.DataFrame): The DataFrame containing the data.\n",
    "        column_name (str): The name of the column to plot the frequency distribution for.\n",
    "    \"\"\"\n",
    "\n",
    "    # Print value counts for reference\n",
    "    print(df[column_name].value_counts())\n",
    "\n",
    "    # Get values and counts\n",
    "    x_values = df[column_name].value_counts().index\n",
    "    y_values = df[column_name].value_counts().values\n",
    "\n",
    "    # Create the bar graph\n",
    "    plt.figure(figsize=(8, 6))  # Set a reasonable figure size\n",
    "    bars = plt.bar(x_values, y_values, edgecolor='black')\n",
    "\n",
    "\n",
    "\n",
    "    for bar, value in zip(bars, y_values):\n",
    "        plt.text(bar.get_x() + bar.get_width() / 2, bar.get_height(), value,\n",
    "                 ha='center', va='bottom')\n",
    "\n",
    "    # Add labels and title\n",
    "    plt.xlabel(column_name)\n",
    "    plt.ylabel('Frequency')\n",
    "    plt.title(f'Distribution of {column_name}')\n",
    "    plt.xticks(rotation=45, ha='right')  # Rotate x-axis labels for readability\n",
    "    plt.tight_layout()\n",
    "    plt.show()\n"
   ]
  },
  {
   "cell_type": "code",
   "execution_count": 40,
   "metadata": {
    "colab": {
     "base_uri": "https://localhost:8080/",
     "height": 711
    },
    "id": "zQMxdY08zw0c",
    "outputId": "2cedb70a-8a59-4fd4-d208-f97e76d6a016"
   },
   "outputs": [
    {
     "name": "stdout",
     "output_type": "stream",
     "text": [
      "weather_condition\n",
      "snowy     1197\n",
      "sunny     1194\n",
      "rainy     1194\n",
      "cloudy    1174\n",
      "Name: count, dtype: int64\n"
     ]
    },
    {
     "data": {
      "image/png": "[encoded data removed]",
      "text/plain": [
       "<Figure size 800x600 with 1 Axes>"
      ]
     },
     "metadata": {},
     "output_type": "display_data"
    }
   ],
   "source": [
    "frequency_plotting(df, 'weather_condition')"
   ]
  },
  {
   "cell_type": "code",
   "execution_count": 41,
   "metadata": {
    "colab": {
     "base_uri": "https://localhost:8080/",
     "height": 694
    },
    "id": "BFMm8cB0z0IR",
    "outputId": "12db4645-4663-4b8e-e6df-85ea4aeca530"
   },
   "outputs": [
    {
     "name": "stdout",
     "output_type": "stream",
     "text": [
      "congestion_level\n",
      "low       1613\n",
      "medium    1590\n",
      "high      1556\n",
      "Name: count, dtype: int64\n"
     ]
    },
    {
     "data": {
      "image/png": "[encoded data removed]",
      "text/plain": [
       "<Figure size 800x600 with 1 Axes>"
      ]
     },
     "metadata": {},
     "output_type": "display_data"
    }
   ],
   "source": [
    "frequency_plotting(df, 'congestion_level')"
   ]
  },
  {
   "cell_type": "code",
   "execution_count": 42,
   "metadata": {
    "colab": {
     "base_uri": "https://localhost:8080/",
     "height": 833
    },
    "id": "fAG7K1-70dMQ",
    "outputId": "a5757279-886c-48d9-d5cf-7864d4bef899"
   },
   "outputs": [
    {
     "name": "stdout",
     "output_type": "stream",
     "text": [
      "temperature\n",
      "-7.048842     1\n",
      " 14.248410    1\n",
      " 29.964628    1\n",
      " 25.171177    1\n",
      " 20.313640    1\n",
      "             ..\n",
      " 12.700280    1\n",
      " 9.953869     1\n",
      " 2.139950     1\n",
      "-6.980358     1\n",
      " 18.013396    1\n",
      "Name: count, Length: 4759, dtype: int64\n"
     ]
    },
    {
     "data": {
      "image/png": "[encoded data removed]",
      "text/plain": [
       "<Figure size 800x600 with 1 Axes>"
      ]
     },
     "metadata": {},
     "output_type": "display_data"
    }
   ],
   "source": [
    "frequency_plotting(df, 'temperature')"
   ]
  },
  {
   "cell_type": "markdown",
   "metadata": {
    "id": "jgfe5EA_4tdZ"
   },
   "source": [
    "temp and time?"
   ]
  },
  {
   "cell_type": "code",
   "execution_count": 43,
   "metadata": {
    "colab": {
     "base_uri": "https://localhost:8080/",
     "height": 989
    },
    "id": "XXHIi9hO0mq-",
    "outputId": "e055dc80-5e7c-408a-914c-9cc641129f26"
   },
   "outputs": [
    {
     "name": "stdout",
     "output_type": "stream",
     "text": [
      "vehicle_count\n",
      "12    282\n",
      "5     264\n",
      "15    262\n",
      "8     261\n",
      "7     258\n",
      "16    253\n",
      "9     248\n",
      "2     244\n",
      "11    241\n",
      "3     239\n",
      "4     235\n",
      "13    231\n",
      "1     228\n",
      "19    222\n",
      "6     221\n",
      "14    220\n",
      "10    217\n",
      "0     216\n",
      "17    215\n",
      "18    202\n",
      "Name: count, dtype: int64\n"
     ]
    },
    {
     "data": {
      "image/png": "[encoded data removed]",
      "text/plain": [
       "<Figure size 800x600 with 1 Axes>"
      ]
     },
     "metadata": {},
     "output_type": "display_data"
    }
   ],
   "source": [
    "frequency_plotting(df, 'vehicle_count')"
   ]
  },
  {
   "cell_type": "code",
   "execution_count": 44,
   "metadata": {
    "colab": {
     "base_uri": "https://localhost:8080/",
     "height": 1000
    },
    "id": "FSj8FWi_4yYS",
    "outputId": "fa912349-5c9c-4e33-e69c-21f2f9e13d44"
   },
   "outputs": [
    {
     "name": "stdout",
     "output_type": "stream",
     "text": [
      "pedestrian_count\n",
      "6     115\n",
      "5     111\n",
      "2     110\n",
      "21    110\n",
      "41    110\n",
      "16    108\n",
      "26    107\n",
      "30    105\n",
      "12    104\n",
      "31    103\n",
      "24    103\n",
      "35    103\n",
      "20    103\n",
      "19    102\n",
      "47    100\n",
      "45    100\n",
      "33    100\n",
      "8     100\n",
      "1      99\n",
      "11     99\n",
      "48     99\n",
      "44     98\n",
      "3      98\n",
      "42     98\n",
      "37     98\n",
      "9      97\n",
      "39     96\n",
      "7      95\n",
      "38     95\n",
      "4      94\n",
      "32     93\n",
      "49     93\n",
      "18     92\n",
      "22     92\n",
      "23     91\n",
      "43     91\n",
      "25     90\n",
      "17     89\n",
      "15     88\n",
      "46     88\n",
      "28     88\n",
      "13     87\n",
      "0      86\n",
      "29     81\n",
      "27     80\n",
      "34     78\n",
      "40     76\n",
      "36     75\n",
      "14     74\n",
      "10     67\n",
      "Name: count, dtype: int64\n"
     ]
    },
    {
     "data": {
      "image/png": "[encoded data removed]",
      "text/plain": [
       "<Figure size 800x600 with 1 Axes>"
      ]
     },
     "metadata": {},
     "output_type": "display_data"
    }
   ],
   "source": [
    "frequency_plotting(df, 'pedestrian_count')"
   ]
  },
  {
   "cell_type": "markdown",
   "metadata": {},
   "source": [
    "### MODELING"
   ]
  },
  {
   "cell_type": "code",
   "execution_count": 45,
   "metadata": {},
   "outputs": [],
   "source": [
    "#necessary libraries for modelimg\n",
    "import pandas as pd\n",
    "import numpy as np\n",
    "import statsmodels.tsa.stattools as sm\n",
    "import statsmodels.tsa.arima_model as ARIMA\n",
    "from statsmodels.tsa.stattools import adfuller\n",
    "import matplotlib.pyplot as plt\n",
    "from sklearn.preprocessing import StandardScaler\n",
    "from sklearn.model_selection import train_test_split\n",
    "from statsmodels.graphics.tsaplots import plot_acf\n",
    "from pandas import tseries\n",
    "from matplotlib import pyplot\n",
    "from statsmodels.graphics.tsaplots import plot_pacf\n",
    "from sklearn import linear_model\n",
    "from sklearn.metrics import mean_squared_error\n",
    "from statsmodels.tsa.statespace.sarimax import SARIMAX"
   ]
  },
  {
   "cell_type": "code",
   "execution_count": null,
   "metadata": {},
   "outputs": [],
   "source": []
  },
  {
   "cell_type": "code",
   "execution_count": null,
   "metadata": {},
   "outputs": [],
   "source": []
  }
 ],
 "metadata": {
  "colab": {
   "provenance": []
  },
  "kernelspec": {
   "display_name": "Python (learn-env)",
   "language": "python",
   "name": "learn-env"
  },
  "language_info": {
   "codemirror_mode": {
    "name": "ipython",
    "version": 3
   },
   "file_extension": ".py",
   "mimetype": "text/x-python",
   "name": "python",
   "nbconvert_exporter": "python",
   "pygments_lexer": "ipython3",
   "version": "3.9.18"
  }
 },
 "nbformat": 4,
 "nbformat_minor": 4
}
